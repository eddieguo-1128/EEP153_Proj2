{
 "cells": [
  {
   "cell_type": "markdown",
   "id": "d1fa1e49",
   "metadata": {},
   "source": [
    "# EEP 153 Proj 2: Group Sylvia Lane"
   ]
  },
  {
   "cell_type": "markdown",
   "id": "fddf4435",
   "metadata": {},
   "source": [
    "## Minimum Cost Diet\n",
    "\n",
    "### Topic:\n",
    "\n",
    "### Objectives:"
   ]
  },
  {
   "cell_type": "code",
   "execution_count": null,
   "id": "05a70bec",
   "metadata": {},
   "outputs": [],
   "source": [
    "# Import packages needed for this project\n",
    "import numpy as np\n",
    "import pandas as pd"
   ]
  }
 ],
 "metadata": {
  "kernelspec": {
   "display_name": "Python 3 (ipykernel)",
   "language": "python",
   "name": "python3"
  },
  "language_info": {
   "codemirror_mode": {
    "name": "ipython",
    "version": 3
   },
   "file_extension": ".py",
   "mimetype": "text/x-python",
   "name": "python",
   "nbconvert_exporter": "python",
   "pygments_lexer": "ipython3",
   "version": "3.9.12"
  }
 },
 "nbformat": 4,
 "nbformat_minor": 5
}
