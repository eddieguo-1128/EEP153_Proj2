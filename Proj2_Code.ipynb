{
 "cells": [
  {
   "cell_type": "markdown",
   "id": "3fd9394e",
   "metadata": {},
   "source": [
    "# EEP 153 Proj 2: Group Sylvia Lane"
   ]
  },
  {
   "cell_type": "markdown",
   "id": "3461258d",
   "metadata": {},
   "source": [
    "## Minimum Cost Diet\n",
    "\n",
    "### Topic:\n",
    "\n",
    "### Objectives:"
   ]
  },
  {
   "cell_type": "code",
   "execution_count": 1,
   "id": "d94e606a",
   "metadata": {},
   "outputs": [],
   "source": [
    "# Import packages needed for this project\n",
    "import numpy as np\n",
    "import pandas as pd"
   ]
  },
  {
   "cell_type": "code",
   "execution_count": 3,
   "id": "2a1abf90",
   "metadata": {},
   "outputs": [
    {
     "data": {
      "text/html": [
       "<div>\n",
       "<style scoped>\n",
       "    .dataframe tbody tr th:only-of-type {\n",
       "        vertical-align: middle;\n",
       "    }\n",
       "\n",
       "    .dataframe tbody tr th {\n",
       "        vertical-align: top;\n",
       "    }\n",
       "\n",
       "    .dataframe thead th {\n",
       "        text-align: right;\n",
       "    }\n",
       "</style>\n",
       "<table border=\"1\" class=\"dataframe\">\n",
       "  <thead>\n",
       "    <tr style=\"text-align: right;\">\n",
       "      <th></th>\n",
       "      <th>Nutrition</th>\n",
       "      <th>Source</th>\n",
       "      <th>C 1-3</th>\n",
       "      <th>F 4-8</th>\n",
       "      <th>M 4-8</th>\n",
       "      <th>F 9-13</th>\n",
       "      <th>M 9-13</th>\n",
       "      <th>F 14-18</th>\n",
       "      <th>M 14-18</th>\n",
       "      <th>F 19-30</th>\n",
       "      <th>M 19-30</th>\n",
       "      <th>F 31-50</th>\n",
       "      <th>M 31-50</th>\n",
       "      <th>F 51+</th>\n",
       "      <th>M 51+</th>\n",
       "    </tr>\n",
       "  </thead>\n",
       "  <tbody>\n",
       "    <tr>\n",
       "      <th>0</th>\n",
       "      <td>Sodium, Na</td>\n",
       "      <td>UL</td>\n",
       "      <td>1500</td>\n",
       "      <td>1900</td>\n",
       "      <td>1900</td>\n",
       "      <td>2200</td>\n",
       "      <td>2200</td>\n",
       "      <td>2300</td>\n",
       "      <td>2300</td>\n",
       "      <td>2300</td>\n",
       "      <td>2300</td>\n",
       "      <td>2300</td>\n",
       "      <td>2300</td>\n",
       "      <td>2300</td>\n",
       "      <td>2300</td>\n",
       "    </tr>\n",
       "    <tr>\n",
       "      <th>1</th>\n",
       "      <td>Energy</td>\n",
       "      <td>NaN</td>\n",
       "      <td>2500</td>\n",
       "      <td>2500</td>\n",
       "      <td>2500</td>\n",
       "      <td>2800</td>\n",
       "      <td>3000</td>\n",
       "      <td>3100</td>\n",
       "      <td>3100</td>\n",
       "      <td>3100</td>\n",
       "      <td>3100</td>\n",
       "      <td>3100</td>\n",
       "      <td>3100</td>\n",
       "      <td>3100</td>\n",
       "      <td>3100</td>\n",
       "    </tr>\n",
       "  </tbody>\n",
       "</table>\n",
       "</div>"
      ],
      "text/plain": [
       "    Nutrition Source  C 1-3  F 4-8  M 4-8  F 9-13  M 9-13  F 14-18  M 14-18  \\\n",
       "0  Sodium, Na     UL   1500   1900   1900    2200    2200     2300     2300   \n",
       "1      Energy    NaN   2500   2500   2500    2800    3000     3100     3100   \n",
       "\n",
       "   F 19-30  M 19-30  F 31-50  M 31-50  F 51+  M 51+  \n",
       "0     2300     2300     2300     2300   2300   2300  \n",
       "1     3100     3100     3100     3100   3100   3100  "
      ]
     },
     "execution_count": 3,
     "metadata": {},
     "output_type": "execute_result"
    }
   ],
   "source": [
    "# Read diet minimum and maximum data\n",
    "import pandas as pd\n",
    "diet_min = pd.read_excel(\"Dietary Requirements.xlsx\",sheet_name='diet_minimums')\n",
    "diet_max = pd.read_excel(\"Dietary Requirements.xlsx\",sheet_name='diet_maximums')\n",
    "diet_max"
   ]
  },
  {
   "cell_type": "markdown",
   "id": "da73e10d",
   "metadata": {},
   "source": [
    "### [A] Description of population of interest"
   ]
  },
  {
   "cell_type": "markdown",
   "id": "b660a7ea",
   "metadata": {},
   "source": [
    "### [A] Dietary Reference Intakes"
   ]
  },
  {
   "cell_type": "markdown",
   "id": "797d0be7",
   "metadata": {},
   "source": [
    "### [A] Data on prices for different foods"
   ]
  },
  {
   "cell_type": "markdown",
   "id": "96802386",
   "metadata": {},
   "source": [
    "### [A] Nutritional content of different foods"
   ]
  },
  {
   "cell_type": "markdown",
   "id": "444cb5d9",
   "metadata": {},
   "source": [
    "### [A] Solution"
   ]
  },
  {
   "cell_type": "markdown",
   "id": "80d90681",
   "metadata": {},
   "source": [
    "### [B] Is your solution edible?"
   ]
  },
  {
   "cell_type": "markdown",
   "id": "02b95dd7",
   "metadata": {},
   "source": [
    "### [B] Meal Reviews\n"
   ]
  },
  {
   "cell_type": "code",
   "execution_count": null,
   "id": "6ded97ac",
   "metadata": {},
   "outputs": [],
   "source": []
  }
 ],
 "metadata": {
  "kernelspec": {
   "display_name": "Python 3 (ipykernel)",
   "language": "python",
   "name": "python3"
  },
  "language_info": {
   "codemirror_mode": {
    "name": "ipython",
    "version": 3
   },
   "file_extension": ".py",
   "mimetype": "text/x-python",
   "name": "python",
   "nbconvert_exporter": "python",
   "pygments_lexer": "ipython3",
   "version": "3.9.12"
  }
 },
 "nbformat": 4,
 "nbformat_minor": 5
}
